{
 "cells": [
  {
   "cell_type": "code",
   "execution_count": 21,
   "metadata": {
    "collapsed": false
   },
   "outputs": [],
   "source": [
    "def solution(N):\n",
    "    # write your code in Python 2.7\n",
    "    binary = bin(N)[2:]\n",
    "    zeroes = []\n",
    "    counts = 0\n",
    "    for i in binary:\n",
    "        if i == '1':\n",
    "            counts = 0\n",
    "        elif i == '0':\n",
    "            counts += 1\n",
    "        zeroes.append(counts)\n",
    "    return max(zeroes)"
   ]
  },
  {
   "cell_type": "code",
   "execution_count": 25,
   "metadata": {
    "collapsed": false
   },
   "outputs": [
    {
     "data": {
      "text/plain": [
       "2"
      ]
     },
     "execution_count": 25,
     "metadata": {},
     "output_type": "execute_result"
    }
   ],
   "source": [
    "solution(9)"
   ]
  },
  {
   "cell_type": "code",
   "execution_count": 19,
   "metadata": {
    "collapsed": false
   },
   "outputs": [
    {
     "data": {
      "text/plain": [
       "5"
      ]
     },
     "execution_count": 19,
     "metadata": {},
     "output_type": "execute_result"
    }
   ],
   "source": [
    "zeroes = []\n",
    "counts = 0\n",
    "for i in solution(1041):\n",
    "    if i == '1':\n",
    "        counts = 0\n",
    "    elif i == '0':\n",
    "        counts += 1\n",
    "    zeroes.append(counts)\n",
    "\n",
    "max(zeroes)"
   ]
  },
  {
   "cell_type": "code",
   "execution_count": null,
   "metadata": {
    "collapsed": true
   },
   "outputs": [],
   "source": [
    "def solution(S, K):\n",
    "    # write your code in Python 2.7\n",
    "    \n",
    "    \n",
    "    \n",
    "    return\n"
   ]
  }
 ],
 "metadata": {
  "anaconda-cloud": {},
  "kernelspec": {
   "display_name": "Python [conda root]",
   "language": "python",
   "name": "conda-root-py"
  },
  "language_info": {
   "codemirror_mode": {
    "name": "ipython",
    "version": 3
   },
   "file_extension": ".py",
   "mimetype": "text/x-python",
   "name": "python",
   "nbconvert_exporter": "python",
   "pygments_lexer": "ipython3",
   "version": "3.5.2"
  }
 },
 "nbformat": 4,
 "nbformat_minor": 1
}
