{
 "cells": [
  {
   "cell_type": "code",
   "execution_count": 1,
   "metadata": {
    "collapsed": true
   },
   "outputs": [],
   "source": [
    "from selenium import webdriver\n",
    "from selenium.webdriver.common.keys import Keys\n",
    "from selenium.webdriver.common.action_chains import ActionChains\n",
    "import time\n",
    "import datetime \n",
    "import pandas as pd\n",
    "\n",
    "# 파이어폭스를 켠다\n",
    "# 파이어폭스가 완전히 켜질 때까지 다음 명령칸을 실행하지 말 것\n",
    "driver = webdriver.Firefox()"
   ]
  },
  {
   "cell_type": "markdown",
   "metadata": {},
   "source": [
    "# 검색어 명령어 예시\n",
    "1. 기능설명: ‘자바 개발’이라는 문구를 띄어쓰기 까지 그대로 포 함해 보여준다.\n",
    " - 사용법: \"자바 개발\"\n",
    "2.  기능설명: ‘자바’ 또는 ‘프레임워크’의 모든 결과를 보여준다.\n",
    " - 사용법: \"자바 OR 프레임워크\"\n",
    "3.  기능설명: ‘자바’는 포함하지만 ‘DB’는 포함하지 않는다.\n",
    " - 사용법: \"자바 -DB\"\n",
    "4.  기능설명: 해시태그 ‘java’를 포함\n",
    " - 사용법: \"#java\"\n",
    "5.  기능설명: ‘@java’님이 작성\n",
    " - 사용법: \"from:@java\"\n",
    "6.  기능설명: ‘@java’님에게 다른 사람들이 작성한 트윗을 보여준다.\n",
    " - 사용법: \"to:@java\"\n",
    "7.  기능설명:’@java’님을 언급한 트윗을 검색해준다.\n",
    " - 사용법: \"@java\"\n",
    "8.  기능설명: ‘2013-11-12'이후 작성된 ‘spring framework’를 검색해줌.\n",
    " - 사용법: \"spring framework since:2013-11-12\"\n",
    "9.  기능설명: ‘2013-11-01'이전 작성된 ‘spring framework’를 검색해줌.\n",
    " - 사용법: \"spring framework until:2013-11-12\"\n",
    "10.  기능설명: ‘java web’을 포함한 긍정적인 분위기의 트윗글을 검색해줌.\n",
    " - 사용법: \"'java web':)\"\n",
    " - 기타: 혹은 \"java web ^^\" 등등 원하는 이모티콘을 넣어 검색\n",
    "11.  기능설명: \"'java web':(\"을 포함한 부정적인 분위기의 트윗글을 검색해줌\n",
    " - 사용법: \"'java web':(\"\n",
    " - 기타: 혹은 \"java web ^^\" 등등 원하는 이모티콘을 넣어 검색\n",
    "12. 기능설명: “spring framework”을 포함한 의문형의 트윗글을 검색해줌\n",
    " - 사용법: \"'spring framework'?\"\n",
    "13. 기능설명: ’java web’을 포함하고 url링크를 가지고 있는 트윗글을 검색해줌.\n",
    " - 사용법: \"'java web' filter:links\"\n",
    "14. 기능설명: ‘java’ 를 포함하고 ‘naver’에서 작성된 트윗글을 검색해줌.\n",
    " - 사용법: \"java source:naver\""
   ]
  },
  {
   "cell_type": "code",
   "execution_count": 2,
   "metadata": {
    "collapsed": true
   },
   "outputs": [],
   "source": [
    "query1027 = ['\"세월호\" since:2014-10-20 until:2014-10-21', '\"세월호\" since:2014-10-21 until:2014-10-22',\n",
    "         '\"세월호\" since:2014-10-22 until:2014-10-23', '\"세월호\" since:2014-10-23 until:2014-10-24',\n",
    "          '\"세월호\" since:2014-10-24 until:2014-10-25', '\"세월호\" since:2014-10-25 until:2014-10-26',\n",
    "          '\"세월호\" since:2014-10-26 until:2014-10-27', '\"세월호\" since:2014-10-27 until:2014-10-28',\n",
    "          '\"세월호\" since:2014-10-29 until:2014-10-30', '\"세월호\" since:2014-10-30 until:2014-10-31',\n",
    "          '\"세월호\" since:2014-11-01 until:2014-11-02', '\"세월호\" since:2014-11-02 until:2014-11-03',\n",
    "          '\"세월호\" since:2014-11-03 until:2014-11-04', '\"세월호\" since:2014-11-04 until:2014-11-05']\n",
    "query1110 = ['\"세월호\" since:2014-11-05 until:2014-11-06', '\"세월호\" since:2014-11-06 until:2014-11-07',\n",
    "         '\"세월호\" since:2014-11-08 until:2014-11-09', '\"세월호\" since:2014-11-09 until:2014-11-10',\n",
    "          '\"세월호\" since:2014-11-10 until:2014-11-11', '\"세월호\" since:2014-11-11 until:2014-11-12',\n",
    "          '\"세월호\" since:2014-11-12 until:2014-11-13', '\"세월호\" since:2014-11-13 until:2014-11-14',\n",
    "          '\"세월호\" since:2014-11-14 until:2014-11-15', '\"세월호\" since:2014-11-15 until:2014-11-16',\n",
    "          '\"세월호\" since:2014-11-16 until:2014-11-17', '\"세월호\" since:2014-11-17 until:2014-11-18']\n",
    "query0111 = ['\"세월호\" since:2016-01-04 until:2016-01-05', '\"세월호\" since:2016-01-05 until:2016-01-06',\n",
    "          '\"세월호\" since:2016-01-06 until:2016-01-07', '\"세월호\" since:2016-01-07 until:2016-01-08',\n",
    "          '\"세월호\" since:2016-01-08 until:2016-01-09', '\"세월호\" since:2016-01-09 until:2016-01-10',\n",
    "          '\"세월호\" since:2016-01-10 until:2016-01-11', '\"세월호\" since:2016-01-11 until:2016-01-12',\n",
    "          '\"세월호\" since:2016-01-12 until:2016-01-13', '\"세월호\" since:2016-01-13 until:2016-01-14',\n",
    "          '\"세월호\" since:2016-01-14 until:2016-01-15', '\"세월호\" since:2016-01-15 until:2016-01-16',\n",
    "            '\"세월호\" since:2016-01-16 until:2016-01-17', '\"세월호\" since:2016-01-17 until:2016-01-18']\n",
    "queries = [query1027, query1110, query0111]"
   ]
  },
  {
   "cell_type": "code",
   "execution_count": 6,
   "metadata": {
    "collapsed": false
   },
   "outputs": [],
   "source": [
    "def twit_get(query, scroll_times = 100):\n",
    "    query = query\n",
    "    scroll_times = scroll_times\n",
    "    while scroll_times < 1:\n",
    "        scroll_times = int(input(\"스크롤을 몇번 내릴까요?(1이상의 값)->\"))\n",
    "    print(\"시작합니다\")\n",
    "    driver.get(\"https://twitter.com/?lang=ko\")\n",
    "    button = driver.find_elements_by_tag_name(\"button\")\n",
    "    button_class =[x.get_attribute(\"class\") for x in button]\n",
    "    search_button_index = button_class.index(\"StreamsCategoryBar-item ItemSearch\")\n",
    "    button[search_button_index].click()\n",
    "    search = driver.find_element_by_id(\"search-query\")\n",
    "    search.clear()\n",
    "    search.send_keys(query, Keys.ENTER)\n",
    "    time.sleep(2)\n",
    "    for num in range(scroll_times):\n",
    "        driver.execute_script(\"window.scrollTo(0, document.body.scrollHeight);\")\n",
    "        time.sleep(2)\n",
    "    twits = driver.find_elements_by_class_name(\"content\")\n",
    "    total = 1\n",
    "    result = {}\n",
    "    for twit in twits:\n",
    "        current = \"%02d번 트윗\"% total\n",
    "        print(\"현재 {}개의 트윗 중 {}번째 모으는 중\".format(len(twits),total))\n",
    "        if current not in result:\n",
    "            result[current] = {}\n",
    "        result[current]['이름'] = twit.find_element_by_css_selector(\".fullname.js-action-profile-name.show-popup-with-id\").text\n",
    "        result[current]['ID'] = twit.find_element_by_css_selector(\".username.js-action-profile-name\").text\n",
    "        result[current]['입력 날짜와 시간'] = driver.find_element_by_css_selector(\".tweet-timestamp.js-permalink.js-nav.js-tooltip\").text\n",
    "        result[current]['내용'] = twit.find_element_by_css_selector(\".TweetTextSize.js-tweet-text.tweet-text\").text.replace(\"\\n\",\" \")\n",
    "        total += 1\n",
    "    now = datetime.datetime.now()\n",
    "    file_name = \"{}년_{}월_{}일_{}시_{}분_트윗.xlsx\".format(now.year,\n",
    "                                                      now.month, now.day, now.hour, now.minute)\n",
    "    df = pd.DataFrame(result).T\n",
    "    df = df[['이름','ID', '입력 날짜와 시간','내용']]\n",
    "    df.to_excel(file_name)\n",
    "    return df"
   ]
  },
  {
   "cell_type": "code",
   "execution_count": null,
   "metadata": {
    "collapsed": false
   },
   "outputs": [
    {
     "name": "stdout",
     "output_type": "stream",
     "text": [
      "시작합니다\n"
     ]
    }
   ],
   "source": [
    "for query in queries:\n",
    "    for date in query:\n",
    "        twit_get(date)\n",
    "# 실행이 끝나면 폴더로 가서 파일 확인하기"
   ]
  },
  {
   "cell_type": "code",
   "execution_count": null,
   "metadata": {
    "collapsed": true
   },
   "outputs": [],
   "source": []
  }
 ],
 "metadata": {
  "anaconda-cloud": {},
  "kernelspec": {
   "display_name": "Python [conda root]",
   "language": "python",
   "name": "conda-root-py"
  },
  "language_info": {
   "codemirror_mode": {
    "name": "ipython",
    "version": 3
   },
   "file_extension": ".py",
   "mimetype": "text/x-python",
   "name": "python",
   "nbconvert_exporter": "python",
   "pygments_lexer": "ipython3",
   "version": "3.5.2"
  }
 },
 "nbformat": 4,
 "nbformat_minor": 0
}
