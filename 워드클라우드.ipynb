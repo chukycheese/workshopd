{
 "cells": [
  {
   "cell_type": "code",
   "execution_count": null,
   "metadata": {
    "collapsed": true
   },
   "outputs": [],
   "source": [
    "# 기본 라이브러리 불러오기\n",
    "from scipy.misc import imread # 이미지 불러오는 모듈\n",
    "import numpy as np \n",
    "import matplotlib.pyplot as plt\n",
    "from wordcloud import WordCloud, ImageColorGenerator\n",
    "%matplotlib inline"
   ]
  },
  {
   "cell_type": "code",
   "execution_count": null,
   "metadata": {
    "collapsed": false
   },
   "outputs": [],
   "source": [
    "# 텍스트 파일을 읽어옴\n",
    "# 파일명에는 자신의 텍스트파일\n",
    "text = open('cj푸드빌.txt').read() "
   ]
  },
  {
   "cell_type": "code",
   "execution_count": null,
   "metadata": {
    "collapsed": false
   },
   "outputs": [],
   "source": [
    "# 그림 파일을 불러옴 여기에 맞게 그림을 그릴 것\n",
    "# 이미지파일은 가능하면 클 수록 좋고, 로고도 클 수록 좋음\n",
    "logo = imread(\"CJFOODVILLE.jpg\")"
   ]
  },
  {
   "cell_type": "code",
   "execution_count": null,
   "metadata": {
    "collapsed": true
   },
   "outputs": [],
   "source": [
    "# 워드 클라우드를 만듦 \n",
    "# 여기서는 아직 텍스트는 들어가지 않고 틀만 만들어짐\n",
    "# 중요한 것은 기본 폰트는 한글 지원을 안하기 때문에 한글 폰트 주소를 써줘야함\n",
    "# 여기서의 기본 폰트는 맑은 고딕, 오이체 찾게 되면 사용 가능\n",
    "wc = WordCloud(font_path=\"C:\\Windows\\Fonts\\맑은고딕\\malgunbd.ttf\", \n",
    "               background_color=\"white\", \n",
    "               max_words=500, \n",
    "               mask=logo) # mark 부분이 이미지에 맞게 그림을 그리게 하는 부분"
   ]
  },
  {
   "cell_type": "code",
   "execution_count": null,
   "metadata": {
    "collapsed": false
   },
   "outputs": [],
   "source": [
    "# 워드 클라우드에 텍스트를 올림\n",
    "wc.generate(text)"
   ]
  },
  {
   "cell_type": "code",
   "execution_count": null,
   "metadata": {
    "collapsed": false
   },
   "outputs": [],
   "source": [
    "# 현재는 그림을 그려보면 색깔이 자기 맘대로임\n",
    "plt.imshow(wc)"
   ]
  },
  {
   "cell_type": "code",
   "execution_count": null,
   "metadata": {
    "collapsed": true
   },
   "outputs": [],
   "source": [
    "# 로고에서 색상을 뽑아오는 작업\n",
    "image_color = ImageColorGenerator(logo)"
   ]
  },
  {
   "cell_type": "code",
   "execution_count": null,
   "metadata": {
    "collapsed": false
   },
   "outputs": [],
   "source": [
    "# 위에서 뽑은 색깔로 다시 색칠함\n",
    "wc.recolor(color_func=image_color)"
   ]
  },
  {
   "cell_type": "code",
   "execution_count": null,
   "metadata": {
    "collapsed": false
   },
   "outputs": [],
   "source": [
    "# 그려보면 색깔이 바뀐 것을 알 수 있음\n",
    "plt.imshow(wc)"
   ]
  },
  {
   "cell_type": "code",
   "execution_count": null,
   "metadata": {
    "collapsed": false
   },
   "outputs": [],
   "source": [
    "# 워드 클라우드 이미지를 저장함\n",
    "wc.to_file(\"wordcloud_logo.png\")"
   ]
  },
  {
   "cell_type": "code",
   "execution_count": null,
   "metadata": {
    "collapsed": true
   },
   "outputs": [],
   "source": []
  }
 ],
 "metadata": {
  "kernelspec": {
   "display_name": "Python [conda root]",
   "language": "python",
   "name": "conda-root-py"
  },
  "language_info": {
   "codemirror_mode": {
    "name": "ipython",
    "version": 3
   },
   "file_extension": ".py",
   "mimetype": "text/x-python",
   "name": "python",
   "nbconvert_exporter": "python",
   "pygments_lexer": "ipython3",
   "version": "3.5.2"
  }
 },
 "nbformat": 4,
 "nbformat_minor": 0
}
