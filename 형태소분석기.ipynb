{
 "cells": [
  {
   "cell_type": "code",
   "execution_count": 1,
   "metadata": {
    "collapsed": false
   },
   "outputs": [],
   "source": [
    "#라이브러리 불러오기\n",
    "import pandas as pd\n",
    "import numpy as np\n",
    "from konlpy.tag import Twitter\n",
    "from konlpy.utils import pprint\n",
    "from gensim import models"
   ]
  },
  {
   "cell_type": "code",
   "execution_count": 2,
   "metadata": {
    "collapsed": false
   },
   "outputs": [],
   "source": [
    "#크롤링 결과를 포스팅 단위로 분리 \n",
    "doc =open('삼성역.csv')\n",
    "data = doc.read()\n",
    "doc.close()\n",
    "phrase = data.split('\\n')\n",
    "#문서의 이름을 name으로 지정 ex)삼성역-->name= 삼성역\n",
    "name=doc.name"
   ]
  },
  {
   "cell_type": "code",
   "execution_count": 3,
   "metadata": {
    "collapsed": false
   },
   "outputs": [],
   "source": [
    "#포스팅에서 한글 외 문자 제거\n",
    "import re\n",
    "hangul = re.compile('[^ ㄱ-ㅣ가-힣]+')\n"
   ]
  },
  {
   "cell_type": "code",
   "execution_count": 4,
   "metadata": {
    "collapsed": false
   },
   "outputs": [
    {
     "name": "stdout",
     "output_type": "stream",
     "text": [
      "[[('구글', 'Noun'), ('캠퍼스', 'Noun'), ('캠퍼스', 'Noun'), ('서울', 'Noun'), ('삼성역', 'Noun'), ('넘다', 'Verb'), ('들어오다', 'Verb'), ('싶다', 'Verb'), ('아늑하구', 'Noun'), ('좋다', 'Adjective'), ('회사', 'Noun'), ('지하', 'Noun'), ('층', 'Noun'), ('라운지', 'Noun'), ('직딩', 'Noun'), ('직딩', 'Noun'), ('스타', 'Noun'), ('그램', 'Noun'), ('회사', 'Noun'), ('유니콘', 'Noun'), ('웰컴', 'Noun'), ('팩', 'Noun'), ('일상', 'Noun'), ('일기', 'Noun'), ('데', 'Noun'), ('일리', 'Noun'), ('맞팔', 'Noun'), ('맞팔', 'Noun'), ('해', 'Josa'), ('요', 'Noun'), ('맞팔', 'Noun'), ('스타', 'Noun'), ('그램', 'Noun'), ('선팔', 'Noun'), ('하다', 'Verb'), ('맞팔', 'Noun')], [('멋지다', 'Adjective'), ('흘르다', 'Verb'), ('넘치다', 'Verb'), ('블랙', 'Noun'), ('프렌치', 'Noun'), ('불독', 'Noun'), ('으악', 'Adverb'), ('보기', 'Noun'), ('만', 'Josa'), ('해도', 'Noun'), ('안다', 'Verb'), ('싶다', 'Verb'), ('블랙', 'Noun'), ('왕자', 'Noun'), ('님', 'Suffix'), ('을', 'Josa'), ('소개', 'Noun'), ('하다', 'Verb'), ('찐빵', 'Noun'), ('같이', 'Josa'), ('통통', 'Noun'), ('한', 'Josa'), ('두상', 'Noun'), ('은', 'Josa'), ('물론', 'Noun'), ('건강미', 'Noun'), ('넘치다', 'Verb'), ('몸매', 'Noun'), ('까지', 'Josa'), ('갖추다', 'Verb'), ('블랙', 'Noun'), ('왕자', 'Noun'), ('님', 'Suffix'), ('아장아장', 'Adverb'), ('뛰어다니다', 'Verb'), ('모습', 'Noun'), ('은', 'Josa'), ('또', 'Noun'), ('얼마나', 'Noun'), ('이쁘다', 'Adjective'), ('멋지다', 'Adjective'), ('가득', 'Noun'), ('블랙', 'Noun'), ('아가', 'Noun'), ('가', 'Josa'), ('궁금하다', 'Adjective'), ('지금', 'Noun'), ('바로', 'Noun'), ('문의', 'Noun'), ('줄다', 'Verb'), ('다음', 'Noun'), ('카페', 'Noun'), ('에', 'Josa'), ('정', 'Noun'), ('퍼피', 'Noun'), ('클럽', 'Noun'), ('을', 'Josa'), ('검색', 'Noun'), ('해주다', 'Verb'), ('대한민국', 'Noun'), ('대표', 'Noun'), ('프리미엄', 'Noun'), ('강아지', 'Noun'), ('분양', 'Noun'), ('정', 'Noun'), ('퍼피', 'Noun'), ('클럽', 'Noun'), ('분양', 'Noun'), ('문의', 'Noun'), ('프렌치', 'Noun'), ('불독', 'Noun'), ('프렌치', 'Noun'), ('불독', 'Noun'), ('프렌치', 'Noun'), ('불독', 'Noun'), ('분양', 'Noun'), ('불독', 'Noun'), ('분양', 'Noun'), ('불독', 'Noun'), ('스타', 'Noun'), ('그램', 'Noun'), ('프렌치', 'Noun'), ('불독', 'Noun'), ('은', 'Josa'), ('사랑', 'Noun'), ('이다', 'Adjective'), ('크림', 'Noun'), ('프렌치', 'Noun'), ('불독', 'Noun'), ('홍대', 'Noun'), ('가로수길', 'Noun'), ('압구정', 'Noun'), ('신촌', 'Noun'), ('이대', 'Noun'), ('이태원', 'Noun'), ('여의도', 'Noun'), ('광화문', 'Noun'), ('신촌', 'Noun'), ('인사동', 'Noun'), ('삼성역', 'Noun'), ('역삼', 'Noun'), ('노원', 'Noun'), ('청담동', 'Noun'), ('논현', 'Noun'), ('혜화역', 'Noun'), ('반포', 'Noun'), ('판교', 'Noun'), ('송도', 'Noun'), ('영등포', 'Noun'), ('일산', 'Noun')]]\n"
     ]
    }
   ],
   "source": [
    "#형태소 문장 단위 추출\n",
    "dic_Twitter = []\n",
    "for i in range(len(phrase)):\n",
    "    p = hangul.sub(' ', phrase[i])\n",
    "    s = Twitter().pos(p, stem=True, norm=True)  ##norm, stem 옵션 추가\n",
    "    dic_Twitter.append(s)\n",
    "print(dic_Twitter[:2])"
   ]
  }
 ],
 "metadata": {
  "anaconda-cloud": {},
  "kernelspec": {
   "display_name": "Python [conda root]",
   "language": "python",
   "name": "conda-root-py"
  },
  "language_info": {
   "codemirror_mode": {
    "name": "ipython",
    "version": 3
   },
   "file_extension": ".py",
   "mimetype": "text/x-python",
   "name": "python",
   "nbconvert_exporter": "python",
   "pygments_lexer": "ipython3",
   "version": "3.5.2"
  }
 },
 "nbformat": 4,
 "nbformat_minor": 0
}
